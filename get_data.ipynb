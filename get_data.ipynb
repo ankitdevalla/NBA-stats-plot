{
 "cells": [
  {
   "cell_type": "code",
   "execution_count": 3,
   "metadata": {},
   "outputs": [],
   "source": [
    "from bs4 import BeautifulSoup\n",
    "import os\n",
    "from playwright.async_api import async_playwright, TimeoutError as PlaywrightTimeout\n",
    "import time "
   ]
  },
  {
   "cell_type": "code",
   "execution_count": 4,
   "metadata": {},
   "outputs": [],
   "source": [
    "SEASONS = list(range(2022, 2023))"
   ]
  },
  {
   "cell_type": "code",
   "execution_count": 5,
   "metadata": {},
   "outputs": [],
   "source": [
    "DATA_DIR = 'data'\n",
    "STANDINGS_DIR = os.path.join(DATA_DIR, 'standings')\n",
    "SCORES_DIR = os.path.join(DATA_DIR, 'scores')"
   ]
  },
  {
   "cell_type": "code",
   "execution_count": 6,
   "metadata": {},
   "outputs": [],
   "source": [
    "async def get_html(url, selector, sleep=5, retries=3):\n",
    "    html = None\n",
    "    for i in range(1, retries+1):\n",
    "        time.sleep(sleep * i)\n",
    "        try:\n",
    "            async with async_playwright() as p:\n",
    "                browser = await p.firefox.launch()\n",
    "                page = await browser.new_page()\n",
    "                await page.goto(url)\n",
    "                print(await page.title())\n",
    "                html = await page.inner_html(selector)\n",
    "        except PlaywrightTimeout:\n",
    "            print(f\"Timeout error on {url}\")\n",
    "            continue\n",
    "        else:\n",
    "            break\n",
    "    return html"
   ]
  },
  {
   "cell_type": "code",
   "execution_count": 15,
   "metadata": {},
   "outputs": [],
   "source": [
    "async def scrape_season(season):\n",
    "    url = f'https://www.basketball-reference.com/leagues/NBA_{season}_standings.html'\n",
    "    html = await get_html(url, '#content .filter')\n",
    "    soup = BeautifulSoup(html)\n",
    "    links = soup.find_all('a')\n",
    "    href = [l[\"href\"] for l in links]\n",
    "    standings_pages = [f\"https://www.basketball-reference.com{h}\" for h in href]  \n",
    "    for url in standings_pages:\n",
    "        save_path = os.path.join(STANDINGS_DIR, url.split('/')[-1])\n",
    "        if os.path.exists(save_path):    \n",
    "            continue\n",
    "        html = await get_html(url, '#all_schedule')\n",
    "        with open(save_path, 'w+') as f:\n",
    "            f.write(html)"
   ]
  },
  {
   "cell_type": "code",
   "execution_count": 11,
   "metadata": {},
   "outputs": [],
   "source": [
    "season = 2023\n",
    "url = f'https://www.basketball-reference.com/leagues/NBA_{season}_games.html'"
   ]
  },
  {
   "cell_type": "code",
   "execution_count": 12,
   "metadata": {},
   "outputs": [
    {
     "name": "stdout",
     "output_type": "stream",
     "text": [
      "2022-23 NBA Schedule | Basketball-Reference.com\n"
     ]
    }
   ],
   "source": [
    "html = await get_html(url, '#content .filter')"
   ]
  },
  {
   "cell_type": "code",
   "execution_count": 13,
   "metadata": {},
   "outputs": [],
   "source": [
    "soup = BeautifulSoup(html)\n",
    "links = soup.find_all('a')\n",
    "href = [l[\"href\"] for l in links]\n",
    "standings_pages = [f\"https://www.basketball-reference.com{h}\" for h in href]"
   ]
  },
  {
   "cell_type": "code",
   "execution_count": 14,
   "metadata": {},
   "outputs": [
    {
     "data": {
      "text/plain": [
       "['https://www.basketball-reference.com/leagues/NBA_2023_games-october.html',\n",
       " 'https://www.basketball-reference.com/leagues/NBA_2023_games-november.html',\n",
       " 'https://www.basketball-reference.com/leagues/NBA_2023_games-december.html',\n",
       " 'https://www.basketball-reference.com/leagues/NBA_2023_games-january.html',\n",
       " 'https://www.basketball-reference.com/leagues/NBA_2023_games-february.html',\n",
       " 'https://www.basketball-reference.com/leagues/NBA_2023_games-march.html',\n",
       " 'https://www.basketball-reference.com/leagues/NBA_2023_games-april.html',\n",
       " 'https://www.basketball-reference.com/leagues/NBA_2023_games-may.html',\n",
       " 'https://www.basketball-reference.com/leagues/NBA_2023_games-june.html']"
      ]
     },
     "execution_count": 14,
     "metadata": {},
     "output_type": "execute_result"
    }
   ],
   "source": [
    "standings_pages"
   ]
  }
 ],
 "metadata": {
  "kernelspec": {
   "display_name": "Python 3.9.6 64-bit",
   "language": "python",
   "name": "python3"
  },
  "language_info": {
   "codemirror_mode": {
    "name": "ipython",
    "version": 3
   },
   "file_extension": ".py",
   "mimetype": "text/x-python",
   "name": "python",
   "nbconvert_exporter": "python",
   "pygments_lexer": "ipython3",
   "version": "3.9.6"
  },
  "orig_nbformat": 4,
  "vscode": {
   "interpreter": {
    "hash": "31f2aee4e71d21fbe5cf8b01ff0e069b9275f58929596ceb00d14d90e3e16cd6"
   }
  }
 },
 "nbformat": 4,
 "nbformat_minor": 2
}
